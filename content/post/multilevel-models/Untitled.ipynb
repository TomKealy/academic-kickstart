{
 "cells": [
  {
   "cell_type": "code",
   "execution_count": 1,
   "metadata": {},
   "outputs": [],
   "source": [
    "import numpy as np\n",
    "import pandas as pd\n",
    "\n",
    "from plotnine import *\n",
    "\n",
    "import statsmodels.api as sm\n",
    "\n",
    "import statsmodels.formula.api as smf"
   ]
  },
  {
   "cell_type": "code",
   "execution_count": 2,
   "metadata": {},
   "outputs": [],
   "source": [
    "data = pd.read_csv('politeness_data.csv')"
   ]
  },
  {
   "cell_type": "code",
   "execution_count": 3,
   "metadata": {},
   "outputs": [
    {
     "data": {
      "text/html": [
       "<div>\n",
       "<style scoped>\n",
       "    .dataframe tbody tr th:only-of-type {\n",
       "        vertical-align: middle;\n",
       "    }\n",
       "\n",
       "    .dataframe tbody tr th {\n",
       "        vertical-align: top;\n",
       "    }\n",
       "\n",
       "    .dataframe thead th {\n",
       "        text-align: right;\n",
       "    }\n",
       "</style>\n",
       "<table border=\"1\" class=\"dataframe\">\n",
       "  <thead>\n",
       "    <tr style=\"text-align: right;\">\n",
       "      <th></th>\n",
       "      <th>subject</th>\n",
       "      <th>gender</th>\n",
       "      <th>scenario</th>\n",
       "      <th>attitude</th>\n",
       "      <th>frequency</th>\n",
       "    </tr>\n",
       "  </thead>\n",
       "  <tbody>\n",
       "    <tr>\n",
       "      <th>0</th>\n",
       "      <td>F1</td>\n",
       "      <td>F</td>\n",
       "      <td>1</td>\n",
       "      <td>pol</td>\n",
       "      <td>213.3</td>\n",
       "    </tr>\n",
       "    <tr>\n",
       "      <th>1</th>\n",
       "      <td>F1</td>\n",
       "      <td>F</td>\n",
       "      <td>1</td>\n",
       "      <td>inf</td>\n",
       "      <td>204.5</td>\n",
       "    </tr>\n",
       "    <tr>\n",
       "      <th>2</th>\n",
       "      <td>F1</td>\n",
       "      <td>F</td>\n",
       "      <td>2</td>\n",
       "      <td>pol</td>\n",
       "      <td>285.1</td>\n",
       "    </tr>\n",
       "    <tr>\n",
       "      <th>3</th>\n",
       "      <td>F1</td>\n",
       "      <td>F</td>\n",
       "      <td>2</td>\n",
       "      <td>inf</td>\n",
       "      <td>259.7</td>\n",
       "    </tr>\n",
       "    <tr>\n",
       "      <th>4</th>\n",
       "      <td>F1</td>\n",
       "      <td>F</td>\n",
       "      <td>3</td>\n",
       "      <td>pol</td>\n",
       "      <td>203.9</td>\n",
       "    </tr>\n",
       "    <tr>\n",
       "      <th>...</th>\n",
       "      <td>...</td>\n",
       "      <td>...</td>\n",
       "      <td>...</td>\n",
       "      <td>...</td>\n",
       "      <td>...</td>\n",
       "    </tr>\n",
       "    <tr>\n",
       "      <th>79</th>\n",
       "      <td>M3</td>\n",
       "      <td>M</td>\n",
       "      <td>5</td>\n",
       "      <td>inf</td>\n",
       "      <td>156.5</td>\n",
       "    </tr>\n",
       "    <tr>\n",
       "      <th>80</th>\n",
       "      <td>M3</td>\n",
       "      <td>M</td>\n",
       "      <td>6</td>\n",
       "      <td>pol</td>\n",
       "      <td>146.7</td>\n",
       "    </tr>\n",
       "    <tr>\n",
       "      <th>81</th>\n",
       "      <td>M3</td>\n",
       "      <td>M</td>\n",
       "      <td>6</td>\n",
       "      <td>inf</td>\n",
       "      <td>158.0</td>\n",
       "    </tr>\n",
       "    <tr>\n",
       "      <th>82</th>\n",
       "      <td>M3</td>\n",
       "      <td>M</td>\n",
       "      <td>7</td>\n",
       "      <td>inf</td>\n",
       "      <td>161.1</td>\n",
       "    </tr>\n",
       "    <tr>\n",
       "      <th>83</th>\n",
       "      <td>M3</td>\n",
       "      <td>M</td>\n",
       "      <td>7</td>\n",
       "      <td>pol</td>\n",
       "      <td>153.3</td>\n",
       "    </tr>\n",
       "  </tbody>\n",
       "</table>\n",
       "<p>84 rows × 5 columns</p>\n",
       "</div>"
      ],
      "text/plain": [
       "   subject gender  scenario attitude  frequency\n",
       "0       F1      F         1      pol      213.3\n",
       "1       F1      F         1      inf      204.5\n",
       "2       F1      F         2      pol      285.1\n",
       "3       F1      F         2      inf      259.7\n",
       "4       F1      F         3      pol      203.9\n",
       "..     ...    ...       ...      ...        ...\n",
       "79      M3      M         5      inf      156.5\n",
       "80      M3      M         6      pol      146.7\n",
       "81      M3      M         6      inf      158.0\n",
       "82      M3      M         7      inf      161.1\n",
       "83      M3      M         7      pol      153.3\n",
       "\n",
       "[84 rows x 5 columns]"
      ]
     },
     "execution_count": 3,
     "metadata": {},
     "output_type": "execute_result"
    }
   ],
   "source": [
    "data"
   ]
  },
  {
   "cell_type": "code",
   "execution_count": 4,
   "metadata": {},
   "outputs": [],
   "source": [
    "data.rename(columns={'attitude':'condition', 'frequency':'pitch'}, inplace=True)"
   ]
  },
  {
   "cell_type": "code",
   "execution_count": 71,
   "metadata": {},
   "outputs": [
    {
     "data": {
      "image/png": "[encoded data removed]",
      "text/plain": [
       "<Figure size 640x480 with 6 Axes>"
      ]
     },
     "metadata": {},
     "output_type": "display_data"
    },
    {
     "data": {
      "text/plain": [
       "<ggplot: (7021120474)>"
      ]
     },
     "execution_count": 71,
     "metadata": {},
     "output_type": "execute_result"
    }
   ],
   "source": [
    "(\n",
    "    ggplot(data=data)\n",
    "        + geom_boxplot(aes(x='condition', y='pitch'))\n",
    "         + facet_grid(facets = '~ subject')\n",
    ")"
   ]
  },
  {
   "cell_type": "markdown",
   "metadata": {},
   "source": [
    "We start with a simple model:\n",
    "\n",
    "$$ \\mathrm{pitch} = \\mathrm{int} + \\mathrm{politeness} + \\mathrm{sex} + (1|subject) + \\varepsilon $$"
   ]
  },
  {
   "cell_type": "code",
   "execution_count": 10,
   "metadata": {},
   "outputs": [],
   "source": [
    "data = data.dropna()"
   ]
  },
  {
   "cell_type": "code",
   "execution_count": 37,
   "metadata": {},
   "outputs": [],
   "source": [
    "md = smf.mixedlm(\"pitch ~ subject\", data, groups=data[\"subject\"])\n",
    "mdf = md.fit()\n",
    "mdf.summary()"
   ]
  },
  {
   "cell_type": "code",
   "execution_count": 23,
   "metadata": {},
   "outputs": [],
   "source": [
    "pitch_by_subject = data.groupby('subject')['pitch'].mean()\n",
    "pitch_by_subject\n",
    "mdf.params['Intercept'] + mdf.params['subject[T.F2]']"
   ]
  },
  {
   "cell_type": "code",
   "execution_count": 24,
   "metadata": {},
   "outputs": [
    {
     "data": {
      "text/plain": [
       "subject\n",
       "F1    232.035714\n",
       "F2    258.185714\n",
       "F3    250.735714\n",
       "M3    168.978571\n",
       "M4    145.976923\n",
       "M7    102.178571\n",
       "Name: pitch, dtype: float64"
      ]
     },
     "execution_count": 24,
     "metadata": {},
     "output_type": "execute_result"
    }
   ],
   "source": []
  },
  {
   "cell_type": "code",
   "execution_count": 50,
   "metadata": {},
   "outputs": [
    {
     "data": {
      "text/html": [
       "<table class=\"simpletable\">\n",
       "<tr>\n",
       "       <td>Model:</td>       <td>MixedLM</td> <td>Dependent Variable:</td>   <td>pitch</td>  \n",
       "</tr>\n",
       "<tr>\n",
       "  <td>No. Observations:</td>   <td>83</td>          <td>Method:</td>         <td>REML</td>   \n",
       "</tr>\n",
       "<tr>\n",
       "     <td>No. Groups:</td>       <td>6</td>          <td>Scale:</td>        <td>850.9501</td> \n",
       "</tr>\n",
       "<tr>\n",
       "  <td>Min. group size:</td>    <td>13</td>      <td>Log-Likelihood:</td>   <td>-394.0651</td>\n",
       "</tr>\n",
       "<tr>\n",
       "  <td>Max. group size:</td>    <td>14</td>        <td>Converged:</td>         <td>Yes</td>   \n",
       "</tr>\n",
       "<tr>\n",
       "  <td>Mean group size:</td>   <td>13.8</td>            <td></td>               <td></td>     \n",
       "</tr>\n",
       "</table>\n",
       "<table class=\"simpletable\">\n",
       "<tr>\n",
       "             <td></td>              <th>Coef.</th>  <th>Std.Err.</th>    <th>z</th>   <th>P>|z|</th> <th>[0.025</th>  <th>0.975]</th> \n",
       "</tr>\n",
       "<tr>\n",
       "  <th>Intercept</th>               <td>202.588</td>  <td>10.996</td>  <td>18.424</td> <td>0.000</td> <td>181.037</td> <td>224.139</td>\n",
       "</tr>\n",
       "<tr>\n",
       "  <th>condition[T.pol]</th>        <td>-19.410</td>   <td>6.407</td>  <td>-3.030</td> <td>0.002</td> <td>-31.966</td> <td>-6.853</td> \n",
       "</tr>\n",
       "<tr>\n",
       "  <th>C(gender, Helmert)[H.M]</th> <td>-54.102</td>  <td>10.531</td>  <td>-5.137</td> <td>0.000</td> <td>-74.743</td> <td>-33.462</td>\n",
       "</tr>\n",
       "<tr>\n",
       "  <th>Group Var</th>               <td>603.873</td>  <td>16.530</td>     <td></td>      <td></td>       <td></td>        <td></td>    \n",
       "</tr>\n",
       "</table>"
      ],
      "text/plain": [
       "<class 'statsmodels.iolib.summary2.Summary'>\n",
       "\"\"\"\n",
       "                Mixed Linear Model Regression Results\n",
       "=====================================================================\n",
       "Model:                  MixedLM     Dependent Variable:     pitch    \n",
       "No. Observations:       83          Method:                 REML     \n",
       "No. Groups:             6           Scale:                  850.9501 \n",
       "Min. group size:        13          Log-Likelihood:         -394.0651\n",
       "Max. group size:        14          Converged:              Yes      \n",
       "Mean group size:        13.8                                         \n",
       "---------------------------------------------------------------------\n",
       "                         Coef.  Std.Err.   z    P>|z|  [0.025  0.975]\n",
       "---------------------------------------------------------------------\n",
       "Intercept               202.588   10.996 18.424 0.000 181.037 224.139\n",
       "condition[T.pol]        -19.410    6.407 -3.030 0.002 -31.966  -6.853\n",
       "C(gender, Helmert)[H.M] -54.102   10.531 -5.137 0.000 -74.743 -33.462\n",
       "Group Var               603.873   16.530                             \n",
       "=====================================================================\n",
       "\n",
       "\"\"\""
      ]
     },
     "execution_count": 50,
     "metadata": {},
     "output_type": "execute_result"
    }
   ],
   "source": [
    "md = smf.mixedlm(\"pitch ~ condition + C(gender, Helmert)\", data, groups=data[\"subject\"])\n",
    "mdf = md.fit()\n",
    "mdf.summary()"
   ]
  },
  {
   "cell_type": "code",
   "execution_count": 52,
   "metadata": {},
   "outputs": [
    {
     "data": {
      "text/plain": [
       "788.1302186731671"
      ]
     },
     "execution_count": 52,
     "metadata": {},
     "output_type": "execute_result"
    }
   ],
   "source": [
    "deviance = -2*mdf.llf\n",
    "deviance"
   ]
  },
  {
   "cell_type": "code",
   "execution_count": 53,
   "metadata": {},
   "outputs": [
    {
     "data": {
      "text/plain": [
       "798.1302186731671"
      ]
     },
     "execution_count": 53,
     "metadata": {},
     "output_type": "execute_result"
    }
   ],
   "source": [
    "p = 4 # number of parameters = 3 (fixed) + 1 (random)\n",
    "deviance + 2*(p+1) # total parameters = 4 + 1 for estimated residual variance"
   ]
  },
  {
   "cell_type": "code",
   "execution_count": 54,
   "metadata": {},
   "outputs": [],
   "source": [
    "data_by_subject = data.groupby('subject')['pitch'].mean()"
   ]
  },
  {
   "cell_type": "code",
   "execution_count": 67,
   "metadata": {},
   "outputs": [
    {
     "data": {
      "text/html": [
       "<div>\n",
       "<style scoped>\n",
       "    .dataframe tbody tr th:only-of-type {\n",
       "        vertical-align: middle;\n",
       "    }\n",
       "\n",
       "    .dataframe tbody tr th {\n",
       "        vertical-align: top;\n",
       "    }\n",
       "\n",
       "    .dataframe thead th {\n",
       "        text-align: right;\n",
       "    }\n",
       "</style>\n",
       "<table border=\"1\" class=\"dataframe\">\n",
       "  <thead>\n",
       "    <tr style=\"text-align: right;\">\n",
       "      <th></th>\n",
       "      <th>subject</th>\n",
       "      <th>pitch</th>\n",
       "    </tr>\n",
       "  </thead>\n",
       "  <tbody>\n",
       "    <tr>\n",
       "      <th>0</th>\n",
       "      <td>F1</td>\n",
       "      <td>232.035714</td>\n",
       "    </tr>\n",
       "    <tr>\n",
       "      <th>1</th>\n",
       "      <td>F2</td>\n",
       "      <td>258.185714</td>\n",
       "    </tr>\n",
       "    <tr>\n",
       "      <th>2</th>\n",
       "      <td>F3</td>\n",
       "      <td>250.735714</td>\n",
       "    </tr>\n",
       "    <tr>\n",
       "      <th>3</th>\n",
       "      <td>M3</td>\n",
       "      <td>168.978571</td>\n",
       "    </tr>\n",
       "    <tr>\n",
       "      <th>4</th>\n",
       "      <td>M4</td>\n",
       "      <td>145.976923</td>\n",
       "    </tr>\n",
       "    <tr>\n",
       "      <th>5</th>\n",
       "      <td>M7</td>\n",
       "      <td>102.178571</td>\n",
       "    </tr>\n",
       "  </tbody>\n",
       "</table>\n",
       "</div>"
      ],
      "text/plain": [
       "  subject       pitch\n",
       "0      F1  232.035714\n",
       "1      F2  258.185714\n",
       "2      F3  250.735714\n",
       "3      M3  168.978571\n",
       "4      M4  145.976923\n",
       "5      M7  102.178571"
      ]
     },
     "execution_count": 67,
     "metadata": {},
     "output_type": "execute_result"
    }
   ],
   "source": [
    "data_by_subject.to_frame().reset_index()"
   ]
  },
  {
   "cell_type": "code",
   "execution_count": 69,
   "metadata": {},
   "outputs": [
    {
     "data": {
      "image/png": "[encoded data removed]",
      "text/plain": [
       "<Figure size 640x480 with 1 Axes>"
      ]
     },
     "metadata": {},
     "output_type": "display_data"
    },
    {
     "data": {
      "text/plain": [
       "<ggplot: (7021132699)>"
      ]
     },
     "execution_count": 69,
     "metadata": {},
     "output_type": "execute_result"
    }
   ],
   "source": [
    "(\n",
    "    ggplot(data=data_by_subject.to_frame().reset_index())\n",
    "     + geom_point(aes(x='subject', y='pitch', color='subject'))\n",
    ")"
   ]
  }
 ],
 "metadata": {
  "kernelspec": {
   "display_name": "Python [conda env:featuretools]",
   "language": "python",
   "name": "conda-env-featuretools-py"
  },
  "language_info": {
   "codemirror_mode": {
    "name": "ipython",
    "version": 3
   },
   "file_extension": ".py",
   "mimetype": "text/x-python",
   "name": "python",
   "nbconvert_exporter": "python",
   "pygments_lexer": "ipython3",
   "version": "3.6.10"
  }
 },
 "nbformat": 4,
 "nbformat_minor": 2
}
