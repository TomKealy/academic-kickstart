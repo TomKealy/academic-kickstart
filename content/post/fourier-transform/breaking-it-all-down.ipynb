{
 "cells": [
  {
   "cell_type": "markdown",
   "metadata": {},
   "source": [
    "# Breaking it all down"
   ]
  },
  {
   "cell_type": "markdown",
   "metadata": {},
   "source": [
    "Since it's Joseph Fourier's birthday, I'll write a little about his central idea and why it's so important.\n",
    "\n",
    "One of the most important ideas in mathematics, is that you can build complex things out of simple things. In the context I'm talking about this time: we can often break a vector on a vector space down into a sum of simpler vectors which span the space we're interested in. \n",
    "\n",
    "As an example, consider the plane \\\\( \\mathrm{R}^2 \\\\) and the two vectors \\\\( e_1 = (1, 0)^T \\\\) and \\\\( e_2 = (0, 1)^T \\\\). We can write *any* vector in that plane as a sum  of those two vectors:\n",
    "\n",
    "$$ (40.2, 3.0)^T = 40.2 * e_1 + 3.0 e_2 $$\n",
    "\n",
    "This idea extends to any dimension \\\\( n > 2 \\\\). What's more amazing, is that this idea can also work for spaces with infinite dimensions! In these infinite spaces, a vector is now a function, and we seek to express the function in terms of simpler ones. "
   ]
  },
  {
   "cell_type": "markdown",
   "metadata": {},
   "source": [
    "In school (and university) we were taught about the functions \\\\( \\mathrm{sin}(x) \\\\) and \\\\( \\mathrm{cos}(x) \\\\), these functions have the usefull properties that:\n",
    "\n",
    "$$ \\int_0^{2\\pi} cos(x) dx  = 0 $$\n",
    "\n",
    "$$ \\int_0^{2\\pi} sin(x) dx  = 0 $$\n",
    "\n",
    "and that\n",
    "\n",
    "$$ \\int_0^{2\\pi} cos(x) sin(x) dx  = 0 $$\n",
    "\n",
    "Because of these (admittedly quite arbitrary properties) \\\\( sin \\\\) and \\\\( cos \\\\) can play the role for functions that \\\\( e_1 \\\\) and \\\\( e_2 \\\\) played for vectors. This was Joseph Fourier's insight, and there's not a part of Science/Engineering that has been left untouched (mainly because if you're out of ideas about what to do in a data analysis, taking a Fourier Transform will seldom be  a bad one). \n",
    "\n",
    "In the rest of this post, we'll consider an effcient way of computing a discrete version of the Fourier Tansform"
   ]
  },
  {
   "cell_type": "markdown",
   "metadata": {},
   "source": [
    "If we have a vector \\\\( x  \\in \\mathrm{R}^N \\\\) which we can write it's Fourier Transform as:\n",
    "\n",
    "$$ X_k = \\sum_{n=0}^{N-1} x_n e^{-i2\\pi kn/N} $$ \n",
    "\n",
    "Or, more compactly in matrix notation:\n",
    "\n",
    "$$ X_k = W x_n $$\n",
    "\n",
    "with $$ W_{kn} = e^{-i2\\pi kn/N} $$ \n",
    "\n",
    "Naively, we could simply compute the FT by doing some matrix multiplication:"
   ]
  },
  {
   "cell_type": "code",
   "execution_count": 1,
   "metadata": {},
   "outputs": [],
   "source": [
    "import numpy as np\n",
    "\n",
    "x = np.random.randn(1024)\n",
    "\n",
    "def DFT(x):\n",
    "\n",
    "    X = np.zeros_like(x)\n",
    "    N = x.shape[0]\n",
    "    n = np.arange(N)\n",
    "    k = n.reshape((N, 1))\n",
    "    W = np.exp(-1.0*(2j * np.pi * k * n /N))\n",
    "    X = W @ x\n",
    "    return X\n",
    "\n",
    "X = DFT(x)"
   ]
  },
  {
   "cell_type": "markdown",
   "metadata": {},
   "source": [
    "We can check to see if we're right:"
   ]
  },
  {
   "cell_type": "code",
   "execution_count": 2,
   "metadata": {},
   "outputs": [
    {
     "data": {
      "text/plain": [
       "True"
      ]
     },
     "execution_count": 2,
     "metadata": {},
     "output_type": "execute_result"
    }
   ],
   "source": [
    "np.allclose(X, np.fft.fft(x))"
   ]
  },
  {
   "cell_type": "markdown",
   "metadata": {},
   "source": [
    "However, there's a much better way of computing the FT by exploiting some symmetries of W. First of all we'll show that $ X_{k + N} = X_k $ and then how this insight can be turned into a recursive algorithm for computing $X_k$.\n",
    "\n",
    "Firstly\n",
    "\n",
    "$$ X_{k + N} = \\sum_{n=0}^{N-1} x_n e^{-i2\\pi (k+N)n/N}  $$\n",
    "\n",
    "\n",
    "$$ = \\sum_{n=0}^{N-1} x_n e^{-i2\\pi n} e^{-i2\\pi kn/N} $$\n",
    "\n",
    "$$ = \\sum_{n=0}^{N-1} x_n e^{-i2\\pi kn/N} $$\n",
    "\n",
    "because \\\\( e^{i2\\pi n} = 1 \\\\) for any \\\\( n \\\\). \n",
    "\n",
    "The trick for computing the FT, which makes use of this symmetry, is to perform an FT on the odd and even parts of $ x $ respectively:\n",
    "\n",
    "$$ X_{k} = \\sum_{m=0}^{N/2-1} x_{2m} e^{-i2\\pi (2m)n/N} + \\sum_{m=0}^{N/2-1} x_{2m+1} e^{-i2\\pi (2m+1)n/N} $$\n",
    "\n",
    "$$ X_{k} = \\sum_{m=0}^{N/2-1} x_{2m} e^{-i2\\pi (2m)n/N} + e^{-i 2\\pi k/N} \\sum_{m=0}^{N/2-1} x_{2m+1} e^{-i2\\pi (2m)n/N} $$\n",
    "\n",
    "What that these two lines show, is that we can split an \\\\( N \\\\) length FT into two \\\\( N/2 \\)) length Fts, with the second multiplied by some factor. We need not stop there though, as we can continue this splitting trick all the way down to \\\\( m = 1 \\\\), which is what this graphic shows\n",
    "\n",
    "<img src=\"radix2fft.png\">\n",
    "\n",
    "In python, we can write the FFT as like so:"
   ]
  },
  {
   "cell_type": "code",
   "execution_count": 3,
   "metadata": {},
   "outputs": [],
   "source": [
    "def FFT(x):\n",
    "    N = x.shape[0]\n",
    "    \n",
    "    if N % 2 > 0:\n",
    "        return x\n",
    "    else:\n",
    "        X_even = FFT(x[::2])\n",
    "        X_odd = FFT(x[1::2])\n",
    "        factor = np.exp(-2j * np.pi * np.arange(N) / N)\n",
    "        return np.concatenate([X_even + factor[:(N // 2)] * X_odd, X_even + factor[(N // 2):] * X_odd])"
   ]
  },
  {
   "cell_type": "code",
   "execution_count": 4,
   "metadata": {},
   "outputs": [
    {
     "data": {
      "text/plain": [
       "True"
      ]
     },
     "execution_count": 4,
     "metadata": {},
     "output_type": "execute_result"
    }
   ],
   "source": [
    "X = FFT(x)\n",
    "np.allclose(X, np.fft.fft(x))"
   ]
  }
 ],
 "metadata": {
  "kernelspec": {
   "display_name": "Python 3",
   "language": "python",
   "name": "python3"
  },
  "language_info": {
   "codemirror_mode": {
    "name": "ipython",
    "version": 3
   },
   "file_extension": ".py",
   "mimetype": "text/x-python",
   "name": "python",
   "nbconvert_exporter": "python",
   "pygments_lexer": "ipython3",
   "version": "3.7.3"
  },
  "nikola": {
   "category": "",
   "date": "2018-03-23 10:48:42 UTC+01:00",
   "description": "",
   "link": "",
   "slug": "breaking-it-all-down",
   "tags": "",
   "title": "Breaking it all down",
   "type": "text"
  }
 },
 "nbformat": 4,
 "nbformat_minor": 4
}
